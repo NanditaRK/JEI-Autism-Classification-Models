{
  "nbformat": 4,
  "nbformat_minor": 0,
  "metadata": {
    "colab": {
      "provenance": []
    },
    "kernelspec": {
      "name": "python3",
      "display_name": "Python 3"
    },
    "language_info": {
      "name": "python"
    }
  },
  "cells": [
    {
      "cell_type": "code",
      "execution_count": 29,
      "metadata": {
        "id": "ptbHkvBaxYy_"
      },
      "outputs": [],
      "source": [
        "import pandas as pd\n",
        "from matplotlib import pyplot as plt\n",
        "from sklearn.model_selection import train_test_split\n",
        "from sklearn import svm\n",
        "from sklearn import metrics\n",
        "from sklearn.metrics import classification_report\n",
        "from sklearn.preprocessing import MinMaxScaler"
      ]
    },
    {
      "cell_type": "code",
      "source": [
        "raw_data = pd.read_csv('/content/sample_data/train.csv')"
      ],
      "metadata": {
        "id": "IfqRtYtgyLtx"
      },
      "execution_count": 30,
      "outputs": []
    },
    {
      "cell_type": "code",
      "source": [
        "CATEGORICAL_COLUMNS = ['gender','ethnicity','jaundice','austim','contry_of_res','used_app_before','age_desc','relation']"
      ],
      "metadata": {
        "id": "z6yiW7Xu5uNC"
      },
      "execution_count": 31,
      "outputs": []
    },
    {
      "cell_type": "code",
      "source": [
        "new_raw_data = pd.get_dummies(raw_data, columns = CATEGORICAL_COLUMNS)"
      ],
      "metadata": {
        "id": "1JMYpwRy5xdG"
      },
      "execution_count": 32,
      "outputs": []
    },
    {
      "cell_type": "code",
      "source": [
        "NEW_COLUMNS = ['ID', 'A1_Score', 'A2_Score', 'A3_Score', 'A4_Score', 'A5_Score',\n",
        "       'A6_Score', 'A7_Score', 'A8_Score', 'A9_Score', 'A10_Score', 'age',\n",
        "       'result', 'Class/ASD', 'gender_f', 'gender_m', 'ethnicity_?',\n",
        "       'ethnicity_Asian', 'ethnicity_Black', 'ethnicity_Hispanic',\n",
        "       'ethnicity_Latino', 'ethnicity_Middle Eastern ', 'ethnicity_Others',\n",
        "       'ethnicity_Pasifika', 'ethnicity_South Asian', 'ethnicity_Turkish',\n",
        "       'ethnicity_White-European', 'ethnicity_others', 'jaundice_no',\n",
        "       'jaundice_yes', 'austim_no', 'austim_yes', 'contry_of_res_Afghanistan',\n",
        "       'contry_of_res_AmericanSamoa', 'contry_of_res_Angola',\n",
        "       'contry_of_res_Argentina', 'contry_of_res_Armenia',\n",
        "       'contry_of_res_Aruba', 'contry_of_res_Australia',\n",
        "       'contry_of_res_Austria', 'contry_of_res_Azerbaijan',\n",
        "       'contry_of_res_Bahamas', 'contry_of_res_Bangladesh',\n",
        "       'contry_of_res_Belgium', 'contry_of_res_Bolivia',\n",
        "       'contry_of_res_Brazil', 'contry_of_res_Burundi', 'contry_of_res_Canada',\n",
        "       'contry_of_res_China', 'contry_of_res_Cyprus',\n",
        "       'contry_of_res_Czech Republic', 'contry_of_res_Egypt',\n",
        "       'contry_of_res_Ethiopia', 'contry_of_res_France',\n",
        "       'contry_of_res_Germany', 'contry_of_res_Hong Kong',\n",
        "       'contry_of_res_Iceland', 'contry_of_res_India', 'contry_of_res_Iran',\n",
        "       'contry_of_res_Iraq', 'contry_of_res_Ireland', 'contry_of_res_Italy',\n",
        "       'contry_of_res_Japan', 'contry_of_res_Jordan',\n",
        "       'contry_of_res_Kazakhstan', 'contry_of_res_Malaysia',\n",
        "       'contry_of_res_Mexico', 'contry_of_res_Netherlands',\n",
        "       'contry_of_res_New Zealand', 'contry_of_res_Nicaragua',\n",
        "       'contry_of_res_Niger', 'contry_of_res_Oman', 'contry_of_res_Pakistan',\n",
        "       'contry_of_res_Romania', 'contry_of_res_Russia',\n",
        "       'contry_of_res_Saudi Arabia', 'contry_of_res_Serbia',\n",
        "       'contry_of_res_Sierra Leone', 'contry_of_res_South Africa',\n",
        "       'contry_of_res_Spain', 'contry_of_res_Sri Lanka',\n",
        "       'contry_of_res_Sweden', 'contry_of_res_Tonga', 'contry_of_res_Ukraine',\n",
        "       'contry_of_res_United Arab Emirates', 'contry_of_res_United Kingdom',\n",
        "       'contry_of_res_United States', 'contry_of_res_Viet Nam',\n",
        "       'used_app_before_no', 'used_app_before_yes', 'age_desc_18 and more',\n",
        "       'relation_?', 'relation_Health care professional', 'relation_Others',\n",
        "       'relation_Parent', 'relation_Relative', 'relation_Self']"
      ],
      "metadata": {
        "id": "WG_bSV0L53x1"
      },
      "execution_count": 33,
      "outputs": []
    },
    {
      "cell_type": "code",
      "source": [
        "scaler = MinMaxScaler(feature_range=(-1,1))"
      ],
      "metadata": {
        "id": "pY3UGlXT57c4"
      },
      "execution_count": 34,
      "outputs": []
    },
    {
      "cell_type": "code",
      "source": [
        "features = [NEW_COLUMNS]\n",
        "for feature in features:\n",
        "    new_raw_data[feature] = scaler.fit_transform(new_raw_data[feature])"
      ],
      "metadata": {
        "id": "VwYPzhzl59Xl"
      },
      "execution_count": 35,
      "outputs": []
    },
    {
      "cell_type": "code",
      "source": [
        "X = new_raw_data.drop('Class/ASD', axis=1).values\n",
        "y = new_raw_data['Class/ASD'].values"
      ],
      "metadata": {
        "id": "jbBVEYLi6Bt8"
      },
      "execution_count": 36,
      "outputs": []
    },
    {
      "cell_type": "code",
      "source": [
        "X_train, X_test, y_train, y_test = train_test_split(X, y, train_size = 0.8, test_size=0.2, random_state=0)"
      ],
      "metadata": {
        "id": "jC4fX6P6OVIx"
      },
      "execution_count": 37,
      "outputs": []
    },
    {
      "cell_type": "code",
      "source": [
        "svm = svm.SVC(kernel='linear', gamma = 'auto', C= 2)"
      ],
      "metadata": {
        "id": "fMXYWaj8DdzV"
      },
      "execution_count": 38,
      "outputs": []
    },
    {
      "cell_type": "code",
      "source": [
        "svm.fit(X_train, y_train)\n",
        "svm.score(X_test, y_test)\n",
        "y_pred = svm.predict(X_test)"
      ],
      "metadata": {
        "id": "0Mc9r6UDC-dE"
      },
      "execution_count": 39,
      "outputs": []
    },
    {
      "cell_type": "code",
      "source": [
        "print(classification_report(y_test, y_pred))"
      ],
      "metadata": {
        "colab": {
          "base_uri": "https://localhost:8080/"
        },
        "id": "8wro8lRsE9ti",
        "outputId": "286030ee-65a1-4dd5-96ee-ea6ab99d058e"
      },
      "execution_count": 40,
      "outputs": [
        {
          "output_type": "stream",
          "name": "stdout",
          "text": [
            "              precision    recall  f1-score   support\n",
            "\n",
            "        -1.0       0.93      0.88      0.90       129\n",
            "         1.0       0.59      0.74      0.66        31\n",
            "\n",
            "    accuracy                           0.85       160\n",
            "   macro avg       0.76      0.81      0.78       160\n",
            "weighted avg       0.87      0.85      0.86       160\n",
            "\n"
          ]
        }
      ]
    },
    {
      "cell_type": "code",
      "source": [
        "confusion_matrix = metrics.confusion_matrix(y_test, y_pred)\n",
        "\n",
        "cm_display = metrics.ConfusionMatrixDisplay(confusion_matrix = confusion_matrix, display_labels = ['Non-Autism', 'Autism'])\n",
        "\n",
        "cm_display.plot()\n",
        "plt.show()"
      ],
      "metadata": {
        "colab": {
          "base_uri": "https://localhost:8080/",
          "height": 449
        },
        "id": "qxPXi1SfDdBF",
        "outputId": "b91862de-4ef7-4a13-da99-01a7f32bebff"
      },
      "execution_count": 41,
      "outputs": [
        {
          "output_type": "display_data",
          "data": {
            "text/plain": [
              "<Figure size 640x480 with 2 Axes>"
            ],
            "image/png": "[encoded data removed]"
          },
          "metadata": {}
        }
      ]
    }
  ]
}