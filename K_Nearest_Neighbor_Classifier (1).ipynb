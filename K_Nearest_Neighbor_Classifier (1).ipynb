{
  "nbformat": 4,
  "nbformat_minor": 0,
  "metadata": {
    "colab": {
      "provenance": []
    },
    "kernelspec": {
      "name": "python3",
      "display_name": "Python 3"
    },
    "language_info": {
      "name": "python"
    }
  },
  "cells": [
    {
      "cell_type": "code",
      "execution_count": 171,
      "metadata": {
        "id": "B8Nv1Cg8SKrS"
      },
      "outputs": [],
      "source": [
        "import pandas as pd\n",
        "from matplotlib import pyplot as plt\n",
        "from sklearn.model_selection import train_test_split\n",
        "from sklearn.neighbors import KNeighborsClassifier\n",
        "from sklearn import metrics\n",
        "from sklearn.metrics import classification_report\n",
        "from sklearn.preprocessing import MinMaxScaler"
      ]
    },
    {
      "cell_type": "code",
      "source": [
        "raw_data = pd.read_csv('/content/sample_data/train.csv', header=None, skiprows=1, names=['ID','A1_Score','A2_Score','A3_Score','A4_Score','A5_Score','A6_Score','A7_Score','A8_Score','A9_Score','A10_Score','age','gender','ethnicity','jaundice','austim','contry_of_res','used_app_before','result','age_desc','relation','Class/ASD'])"
      ],
      "metadata": {
        "id": "dMyv-QFuTA6i"
      },
      "execution_count": 172,
      "outputs": []
    },
    {
      "cell_type": "code",
      "source": [
        "CATEGORICAL_COLUMNS = ['gender','ethnicity','jaundice','austim','contry_of_res','used_app_before','age_desc','relation']\n"
      ],
      "metadata": {
        "id": "2u8QcGquTMM4"
      },
      "execution_count": 173,
      "outputs": []
    },
    {
      "cell_type": "code",
      "source": [
        "features = CATEGORICAL_COLUMNS"
      ],
      "metadata": {
        "id": "wovp7Id7TgXH"
      },
      "execution_count": 174,
      "outputs": []
    },
    {
      "cell_type": "code",
      "source": [
        "new_raw_data = pd.get_dummies(raw_data, columns = CATEGORICAL_COLUMNS)"
      ],
      "metadata": {
        "id": "i2ewy0qMTrut"
      },
      "execution_count": 175,
      "outputs": []
    },
    {
      "cell_type": "code",
      "source": [
        "NEW_COLUMNS = ['ID', 'A1_Score', 'A2_Score', 'A3_Score', 'A4_Score', 'A5_Score',\n",
        "       'A6_Score', 'A7_Score', 'A8_Score', 'A9_Score', 'A10_Score', 'age',\n",
        "       'result', 'Class/ASD', 'gender_f', 'gender_m', 'ethnicity_?',\n",
        "       'ethnicity_Asian', 'ethnicity_Black', 'ethnicity_Hispanic',\n",
        "       'ethnicity_Latino', 'ethnicity_Middle Eastern ', 'ethnicity_Others',\n",
        "       'ethnicity_Pasifika', 'ethnicity_South Asian', 'ethnicity_Turkish',\n",
        "       'ethnicity_White-European', 'ethnicity_others', 'jaundice_no',\n",
        "       'jaundice_yes', 'austim_no', 'austim_yes', 'contry_of_res_Afghanistan',\n",
        "       'contry_of_res_AmericanSamoa', 'contry_of_res_Angola',\n",
        "       'contry_of_res_Argentina', 'contry_of_res_Armenia',\n",
        "       'contry_of_res_Aruba', 'contry_of_res_Australia',\n",
        "       'contry_of_res_Austria', 'contry_of_res_Azerbaijan',\n",
        "       'contry_of_res_Bahamas', 'contry_of_res_Bangladesh',\n",
        "       'contry_of_res_Belgium', 'contry_of_res_Bolivia',\n",
        "       'contry_of_res_Brazil', 'contry_of_res_Burundi', 'contry_of_res_Canada',\n",
        "       'contry_of_res_China', 'contry_of_res_Cyprus',\n",
        "       'contry_of_res_Czech Republic', 'contry_of_res_Egypt',\n",
        "       'contry_of_res_Ethiopia', 'contry_of_res_France',\n",
        "       'contry_of_res_Germany', 'contry_of_res_Hong Kong',\n",
        "       'contry_of_res_Iceland', 'contry_of_res_India', 'contry_of_res_Iran',\n",
        "       'contry_of_res_Iraq', 'contry_of_res_Ireland', 'contry_of_res_Italy',\n",
        "       'contry_of_res_Japan', 'contry_of_res_Jordan',\n",
        "       'contry_of_res_Kazakhstan', 'contry_of_res_Malaysia',\n",
        "       'contry_of_res_Mexico', 'contry_of_res_Netherlands',\n",
        "       'contry_of_res_New Zealand', 'contry_of_res_Nicaragua',\n",
        "       'contry_of_res_Niger', 'contry_of_res_Oman', 'contry_of_res_Pakistan',\n",
        "       'contry_of_res_Romania', 'contry_of_res_Russia',\n",
        "       'contry_of_res_Saudi Arabia', 'contry_of_res_Serbia',\n",
        "       'contry_of_res_Sierra Leone', 'contry_of_res_South Africa',\n",
        "       'contry_of_res_Spain', 'contry_of_res_Sri Lanka',\n",
        "       'contry_of_res_Sweden', 'contry_of_res_Tonga', 'contry_of_res_Ukraine',\n",
        "       'contry_of_res_United Arab Emirates', 'contry_of_res_United Kingdom',\n",
        "       'contry_of_res_United States', 'contry_of_res_Viet Nam',\n",
        "       'used_app_before_no', 'used_app_before_yes', 'age_desc_18 and more',\n",
        "       'relation_?', 'relation_Health care professional', 'relation_Others',\n",
        "       'relation_Parent', 'relation_Relative', 'relation_Self']"
      ],
      "metadata": {
        "id": "TvvGKJTDvCAg"
      },
      "execution_count": 176,
      "outputs": []
    },
    {
      "cell_type": "code",
      "source": [
        "scaler = MinMaxScaler(feature_range=(-1,1))"
      ],
      "metadata": {
        "id": "y62i_OADVX50"
      },
      "execution_count": 177,
      "outputs": []
    },
    {
      "cell_type": "code",
      "source": [
        "features = [NEW_COLUMNS]\n",
        "for feature in features:\n",
        "    new_raw_data[feature] = scaler.fit_transform(new_raw_data[feature])\n"
      ],
      "metadata": {
        "id": "HlZ2My0wVYCz"
      },
      "execution_count": 178,
      "outputs": []
    },
    {
      "cell_type": "code",
      "source": [
        "X = new_raw_data.drop('Class/ASD', axis=1).values\n",
        "y = new_raw_data['Class/ASD'].values"
      ],
      "metadata": {
        "id": "Jg8kNlyJUM-d"
      },
      "execution_count": 179,
      "outputs": []
    },
    {
      "cell_type": "code",
      "source": [
        "X_train, X_test, y_train, y_test = train_test_split(X, y, train_size = 0.8, test_size=0.2, random_state=0)"
      ],
      "metadata": {
        "id": "uduz6FRHU2Wx"
      },
      "execution_count": 180,
      "outputs": []
    },
    {
      "cell_type": "code",
      "source": [
        "knn = KNeighborsClassifier(n_neighbors=10)\n"
      ],
      "metadata": {
        "id": "Ra2-0tCqU4kc"
      },
      "execution_count": 181,
      "outputs": []
    },
    {
      "cell_type": "code",
      "source": [
        "knn.fit(X_train, y_train)\n",
        "knn.score(X_test, y_test)\n",
        "y_pred = knn.predict(X_test)"
      ],
      "metadata": {
        "id": "BN7PcCkIU-4A"
      },
      "execution_count": 182,
      "outputs": []
    },
    {
      "cell_type": "code",
      "source": [
        "print(classification_report(y_test, y_pred))"
      ],
      "metadata": {
        "colab": {
          "base_uri": "https://localhost:8080/"
        },
        "id": "yRwDggV2VD_l",
        "outputId": "0cf0d0ef-a5dd-4e3d-d808-f7966c73e1c5"
      },
      "execution_count": 183,
      "outputs": [
        {
          "output_type": "stream",
          "name": "stdout",
          "text": [
            "              precision    recall  f1-score   support\n",
            "\n",
            "        -1.0       0.96      0.88      0.91       129\n",
            "         1.0       0.62      0.84      0.71        31\n",
            "\n",
            "    accuracy                           0.87       160\n",
            "   macro avg       0.79      0.86      0.81       160\n",
            "weighted avg       0.89      0.87      0.88       160\n",
            "\n"
          ]
        }
      ]
    },
    {
      "cell_type": "code",
      "source": [
        "confusion_matrix = metrics.confusion_matrix(y_test, y_pred)\n",
        "\n",
        "cm_display = metrics.ConfusionMatrixDisplay(confusion_matrix = confusion_matrix, display_labels = ['Non-Autism', 'Autism'])\n",
        "\n",
        "cm_display.plot()\n",
        "plt.show()"
      ],
      "metadata": {
        "colab": {
          "base_uri": "https://localhost:8080/",
          "height": 449
        },
        "id": "aMTzK2UttQ7_",
        "outputId": "2fdebfef-fcff-464d-c4b0-ad4cd12d2453"
      },
      "execution_count": 184,
      "outputs": [
        {
          "output_type": "display_data",
          "data": {
            "text/plain": [
              "<Figure size 640x480 with 2 Axes>"
            ],
            "image/png": "[encoded data removed]"
          },
          "metadata": {}
        }
      ]
    }
  ]
}